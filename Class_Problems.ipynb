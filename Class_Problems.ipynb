{
  "nbformat": 4,
  "nbformat_minor": 0,
  "metadata": {
    "colab": {
      "provenance": [],
      "include_colab_link": true
    },
    "kernelspec": {
      "name": "python3",
      "display_name": "Python 3"
    },
    "language_info": {
      "name": "python"
    }
  },
  "cells": [
    {
      "cell_type": "markdown",
      "metadata": {
        "id": "view-in-github",
        "colab_type": "text"
      },
      "source": [
        "<a href=\"https://colab.research.google.com/github/emilygutsche/BTE320Projects/blob/main/Class_Problems.ipynb\" target=\"_parent\"><img src=\"https://colab.research.google.com/assets/colab-badge.svg\" alt=\"Open In Colab\"/></a>"
      ]
    },
    {
      "cell_type": "code",
      "source": [
        "k = 5\n",
        "for i in range(1,9,1):\n",
        "  k = k+2.5\n",
        "  if k < 10:\n",
        "    print(i,10.0)\n",
        "  if k > 20:\n",
        "    print(i,20.0)\n",
        "  else:\n",
        "    print(i,k)\n",
        "\n",
        "\n",
        "\n",
        "\n"
      ],
      "metadata": {
        "colab": {
          "base_uri": "https://localhost:8080/"
        },
        "id": "mYf2_mrb1u8y",
        "outputId": "4163c87a-ab2b-4b27-a2bf-cecda8d3d080"
      },
      "execution_count": null,
      "outputs": [
        {
          "output_type": "stream",
          "name": "stdout",
          "text": [
            "1 10.0\n",
            "1 7.5\n",
            "2 10.0\n",
            "3 12.5\n",
            "4 15.0\n",
            "5 17.5\n",
            "6 20.0\n",
            "7 20.0\n",
            "8 20.0\n"
          ]
        }
      ]
    },
    {
      "cell_type": "code",
      "source": [
        "from ColabTurtlePlus.Turtle import*\n",
        "\n",
        "clearscreen()\n",
        "\n",
        "color('black', 'green')\n",
        "begin_fill()\n",
        "\n",
        "for i in range(4):\n",
        "  forward(100)\n",
        "  left(90)\n",
        "\n",
        "end_fill()\n",
        "\n",
        "\n"
      ],
      "metadata": {
        "colab": {
          "base_uri": "https://localhost:8080/",
          "height": 621
        },
        "id": "HP57Wuv7zPmH",
        "outputId": "518338e7-c48d-4027-8838-db701c7f1107"
      },
      "execution_count": null,
      "outputs": [
        {
          "output_type": "display_data",
          "data": {
            "text/plain": [
              "<IPython.core.display.HTML object>"
            ],
            "text/html": [
              "\n",
              "      <svg width=\"800\" height=\"600\">  \n",
              "        <rect width=\"100%\" height=\"100%\" style=\"fill:white;stroke:;stroke-width:1\"/>\n",
              "        \n",
              "        \n",
              "        <path fill-rule=\"evenodd\" fill-opacity=\"1\" d=\"M 400.0 300.0  L 500.0 300.0  L 500.0 200.0  L 400.0 200.0  L 400.0 300.0 \" stroke-linecap=\"round\" style=\"stroke:black;stroke-width:1\" fill=\"green\" />\n",
              "        \n",
              "        \n",
              "        <g id=\"classic\" visibility=\"visible\" transform=\"rotate(-90,400.0,300.0) translate(400.0, 300.0)\">\n",
              "<polygon points=\"-5,-4.5 0,-2.5 5,-4.5 0,4.5\" transform=\"skewX(0) scale(1,1)\" style=\"stroke:black;fill:green;stroke-width:1\" />\n",
              "</g>\n",
              "      </svg>\n",
              "    "
            ]
          },
          "metadata": {}
        }
      ]
    },
    {
      "cell_type": "code",
      "execution_count": null,
      "metadata": {
        "id": "omFvtYwcwOy1",
        "colab": {
          "base_uri": "https://localhost:8080/"
        },
        "outputId": "c7373f89-82d3-483f-dcd4-256ad037b40a"
      },
      "outputs": [
        {
          "output_type": "stream",
          "name": "stdout",
          "text": [
            "Collecting ColabTurtlePlus\n",
            "  Downloading ColabTurtlePlus-2.0.1-py3-none-any.whl (31 kB)\n",
            "Installing collected packages: ColabTurtlePlus\n",
            "Successfully installed ColabTurtlePlus-2.0.1\n"
          ]
        }
      ],
      "source": [
        "!pip install ColabTurtlePlus"
      ]
    },
    {
      "cell_type": "code",
      "source": [
        "x = 3\n",
        "\n",
        "if x%2 == 0:\n",
        "  print('Even')\n",
        "else:\n",
        "  print('Odd')\n",
        "print(\"Done with conditional\")"
      ],
      "metadata": {
        "colab": {
          "base_uri": "https://localhost:8080/"
        },
        "id": "Ufyp2XwbwUHW",
        "outputId": "569e3a69-fef8-4f26-db98-5d1ec81d7405"
      },
      "execution_count": null,
      "outputs": [
        {
          "output_type": "stream",
          "name": "stdout",
          "text": [
            "Odd\n",
            "\n"
          ]
        }
      ]
    },
    {
      "cell_type": "code",
      "source": [
        "deposit = 2000\n",
        "\n",
        "if deposit > 10000:\n",
        "  ir = 3.5\n",
        "if deposit > 1000 or deposit <= 10000:\n",
        "  ir = 3.25\n",
        "if deposit <= 1000:\n",
        "  ir = 3.0\n",
        "\n",
        "total = (1 + ir/100)*deposit\n",
        "print(total)"
      ],
      "metadata": {
        "colab": {
          "base_uri": "https://localhost:8080/"
        },
        "id": "vlKsG_c1wfp7",
        "outputId": "e6310707-5fa3-428f-eb8f-d4592fd7626d"
      },
      "execution_count": null,
      "outputs": [
        {
          "output_type": "stream",
          "name": "stdout",
          "text": [
            "2065.0\n"
          ]
        }
      ]
    }
  ]
}